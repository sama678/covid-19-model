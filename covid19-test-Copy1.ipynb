{
 "cells": [
  {
   "cell_type": "code",
   "execution_count": 10,
   "metadata": {},
   "outputs": [
    {
     "name": "stdout",
     "output_type": "stream",
     "text": [
      "Requirement already satisfied: numpy in c:\\users\\asus\\anaconda3\\lib\\site-packages (1.18.1)\n"
     ]
    }
   ],
   "source": [
    "!pip install numpy"
   ]
  },
  {
   "cell_type": "code",
   "execution_count": 11,
   "metadata": {},
   "outputs": [],
   "source": [
    "import numpy as np\n",
    "import matplotlib.pyplot as plt\n",
    "import keras\n",
    "from keras.models import *\n",
    "from keras.layers import *\n",
    "from keras.optimizers import Adam\n",
    "from keras.preprocessing import image\n",
    "import os\n",
    "import shutil\n",
    "import pandas as pd"
   ]
  },
  {
   "cell_type": "code",
   "execution_count": 20,
   "metadata": {},
   "outputs": [],
   "source": [
    "model = Sequential()\n",
    "model.add(Conv2D(32,(3,3),activation = \"relu\",input_shape=(224,224,3)))\n",
    "model.add(Conv2D(64,(3,3),activation = \"relu\"))\n",
    "model.add(MaxPooling2D((2,2)))\n",
    "model.add(Dropout(0.1))\n",
    "\n",
    "model.add(Conv2D(64,(3,3),activation = 'relu'))\n",
    "model.add(MaxPooling2D((2,2)))\n",
    "model.add(Dropout(0.1))\n",
    "\n",
    "model.add(Conv2D(64,(3,3),activation = 'relu'))\n",
    "model.add(MaxPooling2D((2,2)))\n",
    "model.add(Dropout(0.1))\n",
    "\n",
    "model.add(Conv2D(128,(3,3),activation ='relu'))\n",
    "model.add(MaxPooling2D((2,2)))\n",
    "model.add(Dropout(0.1))\n",
    "\n",
    "model.add(Conv2D(128,(3,3),activation ='relu'))\n",
    "model.add(MaxPooling2D((2,2)))\n",
    "model.add(Dropout(0.1))\n",
    "\n",
    "model.add(Flatten())\n",
    "model.add(Dense(64,activation = \"relu\"))\n",
    "model.add(Dropout(0.5))\n",
    "model.add(Dense(1,activation = 'sigmoid'))\n",
    "\n",
    "model.compile(loss = 'binary_crossentropy',optimizer = \"adam\",metrics = [\"accuracy\"])"
   ]
  },
  {
   "cell_type": "code",
   "execution_count": 21,
   "metadata": {},
   "outputs": [
    {
     "name": "stdout",
     "output_type": "stream",
     "text": [
      "Model: \"sequential_4\"\n",
      "_________________________________________________________________\n",
      "Layer (type)                 Output Shape              Param #   \n",
      "=================================================================\n",
      "conv2d_19 (Conv2D)           (None, 222, 222, 32)      896       \n",
      "_________________________________________________________________\n",
      "conv2d_20 (Conv2D)           (None, 220, 220, 64)      18496     \n",
      "_________________________________________________________________\n",
      "max_pooling2d_16 (MaxPooling (None, 110, 110, 64)      0         \n",
      "_________________________________________________________________\n",
      "dropout_19 (Dropout)         (None, 110, 110, 64)      0         \n",
      "_________________________________________________________________\n",
      "conv2d_21 (Conv2D)           (None, 108, 108, 64)      36928     \n",
      "_________________________________________________________________\n",
      "max_pooling2d_17 (MaxPooling (None, 54, 54, 64)        0         \n",
      "_________________________________________________________________\n",
      "dropout_20 (Dropout)         (None, 54, 54, 64)        0         \n",
      "_________________________________________________________________\n",
      "conv2d_22 (Conv2D)           (None, 52, 52, 64)        36928     \n",
      "_________________________________________________________________\n",
      "max_pooling2d_18 (MaxPooling (None, 26, 26, 64)        0         \n",
      "_________________________________________________________________\n",
      "dropout_21 (Dropout)         (None, 26, 26, 64)        0         \n",
      "_________________________________________________________________\n",
      "conv2d_23 (Conv2D)           (None, 24, 24, 128)       73856     \n",
      "_________________________________________________________________\n",
      "max_pooling2d_19 (MaxPooling (None, 12, 12, 128)       0         \n",
      "_________________________________________________________________\n",
      "dropout_22 (Dropout)         (None, 12, 12, 128)       0         \n",
      "_________________________________________________________________\n",
      "conv2d_24 (Conv2D)           (None, 10, 10, 128)       147584    \n",
      "_________________________________________________________________\n",
      "max_pooling2d_20 (MaxPooling (None, 5, 5, 128)         0         \n",
      "_________________________________________________________________\n",
      "dropout_23 (Dropout)         (None, 5, 5, 128)         0         \n",
      "_________________________________________________________________\n",
      "flatten_4 (Flatten)          (None, 3200)              0         \n",
      "_________________________________________________________________\n",
      "dense_7 (Dense)              (None, 64)                204864    \n",
      "_________________________________________________________________\n",
      "dropout_24 (Dropout)         (None, 64)                0         \n",
      "_________________________________________________________________\n",
      "dense_8 (Dense)              (None, 1)                 65        \n",
      "=================================================================\n",
      "Total params: 519,617\n",
      "Trainable params: 519,617\n",
      "Non-trainable params: 0\n",
      "_________________________________________________________________\n"
     ]
    }
   ],
   "source": [
    "model.summary()"
   ]
  },
  {
   "cell_type": "code",
   "execution_count": 22,
   "metadata": {},
   "outputs": [],
   "source": [
    "train_gen = image.ImageDataGenerator(\n",
    "    rescale = 1./255,\n",
    "    shear_range = 0.2,\n",
    "    zoom_range = 0.2,\n",
    "    horizontal_flip = True,\n",
    ")\n",
    "\n",
    "val_gen = image.ImageDataGenerator(\n",
    "    rescale = 1./255\n",
    ")"
   ]
  },
  {
   "cell_type": "code",
   "execution_count": 23,
   "metadata": {},
   "outputs": [],
   "source": [
    "train_path = \"../covid19datasete/train/\"\n",
    "val_path = \"../covid19datasete/val/\""
   ]
  },
  {
   "cell_type": "code",
   "execution_count": 24,
   "metadata": {},
   "outputs": [
    {
     "name": "stdout",
     "output_type": "stream",
     "text": [
      "Found 1516 images belonging to 2 classes.\n",
      "Found 36 images belonging to 2 classes.\n"
     ]
    }
   ],
   "source": [
    "train_generator = train_gen.flow_from_directory(\n",
    "    train_path,\n",
    "    target_size = (224,224),\n",
    "    batch_size = 32,\n",
    "    class_mode = \"binary\",\n",
    ")\n",
    "val_generator = val_gen.flow_from_directory(\n",
    "    val_path,\n",
    "    target_size = (224,224),\n",
    "    batch_size = 32,\n",
    "    class_mode = \"binary\",\n",
    ")"
   ]
  },
  {
   "cell_type": "code",
   "execution_count": 25,
   "metadata": {
    "scrolled": true
   },
   "outputs": [
    {
     "data": {
      "text/plain": [
       "{'COVID': 0, 'NORMAL': 1}"
      ]
     },
     "execution_count": 25,
     "metadata": {},
     "output_type": "execute_result"
    }
   ],
   "source": [
    "train_generator.class_indices"
   ]
  },
  {
   "cell_type": "code",
   "execution_count": 26,
   "metadata": {},
   "outputs": [
    {
     "name": "stdout",
     "output_type": "stream",
     "text": [
      "Epoch 1/20\n",
      "47/47 [==============================] - 330s 7s/step - loss: 0.4325 - accuracy: 0.8673 - val_loss: 0.8234 - val_accuracy: 0.2222\n",
      "Epoch 2/20\n",
      "47/47 [==============================] - 328s 7s/step - loss: 0.2832 - accuracy: 0.8976 - val_loss: 1.2797 - val_accuracy: 0.6944\n",
      "Epoch 3/20\n",
      "47/47 [==============================] - 333s 7s/step - loss: 0.1549 - accuracy: 0.9420 - val_loss: 0.6537 - val_accuracy: 0.7778\n",
      "Epoch 4/20\n",
      "47/47 [==============================] - 330s 7s/step - loss: 0.0810 - accuracy: 0.9677 - val_loss: 0.1891 - val_accuracy: 0.9167\n",
      "Epoch 5/20\n",
      "47/47 [==============================] - 330s 7s/step - loss: 0.1037 - accuracy: 0.9596 - val_loss: 1.3769 - val_accuracy: 0.8889\n",
      "Epoch 6/20\n",
      "47/47 [==============================] - 330s 7s/step - loss: 0.1358 - accuracy: 0.9420 - val_loss: 0.6428 - val_accuracy: 0.9444\n",
      "Epoch 7/20\n",
      "47/47 [==============================] - 335s 7s/step - loss: 0.0907 - accuracy: 0.9688 - val_loss: 0.2264 - val_accuracy: 0.9167\n",
      "Epoch 8/20\n",
      "47/47 [==============================] - 326s 7s/step - loss: 0.0992 - accuracy: 0.9611 - val_loss: 0.1238 - val_accuracy: 0.9167\n",
      "Epoch 9/20\n",
      "47/47 [==============================] - 334s 7s/step - loss: 0.0699 - accuracy: 0.9737 - val_loss: 0.5043 - val_accuracy: 0.8611\n",
      "Epoch 10/20\n",
      "47/47 [==============================] - 331s 7s/step - loss: 0.0766 - accuracy: 0.9710 - val_loss: 0.1987 - val_accuracy: 0.8611\n",
      "Epoch 11/20\n",
      "47/47 [==============================] - 339s 7s/step - loss: 0.0680 - accuracy: 0.9727 - val_loss: 0.4401 - val_accuracy: 0.9167\n",
      "Epoch 12/20\n",
      "47/47 [==============================] - 327s 7s/step - loss: 0.0622 - accuracy: 0.9809 - val_loss: 0.1886 - val_accuracy: 0.9722\n",
      "Epoch 13/20\n",
      "47/47 [==============================] - 342s 7s/step - loss: 0.0669 - accuracy: 0.9761 - val_loss: 0.5864 - val_accuracy: 0.8611\n",
      "Epoch 14/20\n",
      "47/47 [==============================] - 331s 7s/step - loss: 0.0639 - accuracy: 0.9809 - val_loss: 0.5253 - val_accuracy: 0.8333\n",
      "Epoch 15/20\n",
      "47/47 [==============================] - 334s 7s/step - loss: 0.0595 - accuracy: 0.9784 - val_loss: 0.0728 - val_accuracy: 0.8889\n",
      "Epoch 16/20\n",
      "47/47 [==============================] - 339s 7s/step - loss: 0.0512 - accuracy: 0.9807 - val_loss: 0.1959 - val_accuracy: 0.8611\n",
      "Epoch 17/20\n",
      "47/47 [==============================] - 336s 7s/step - loss: 0.0732 - accuracy: 0.9761 - val_loss: 0.4318 - val_accuracy: 0.8611\n",
      "Epoch 18/20\n",
      "47/47 [==============================] - 341s 7s/step - loss: 0.0637 - accuracy: 0.9730 - val_loss: 0.2044 - val_accuracy: 0.8611\n",
      "Epoch 19/20\n",
      "47/47 [==============================] - 344s 7s/step - loss: 0.0525 - accuracy: 0.9838 - val_loss: 0.7525 - val_accuracy: 0.8056\n",
      "Epoch 20/20\n",
      "47/47 [==============================] - 349s 7s/step - loss: 0.0454 - accuracy: 0.9834 - val_loss: 0.0039 - val_accuracy: 0.9722\n"
     ]
    }
   ],
   "source": [
    "hist = model.fit_generator(\n",
    "    train_generator,\n",
    "    steps_per_epoch=train_generator.samples//32,\n",
    "    epochs=20,\n",
    "    validation_data = val_generator,\n",
    "    validation_steps =2,\n",
    "    shuffle=True,\n",
    ")"
   ]
  },
  {
   "cell_type": "code",
   "execution_count": 27,
   "metadata": {},
   "outputs": [
    {
     "name": "stdout",
     "output_type": "stream",
     "text": [
      "dict_keys(['val_loss', 'val_accuracy', 'loss', 'accuracy'])\n"
     ]
    },
    {
     "data": {
      "image/png": "[encoded data removed]",
      "text/plain": [
       "<Figure size 432x288 with 1 Axes>"
      ]
     },
     "metadata": {
      "needs_background": "light"
     },
     "output_type": "display_data"
    },
    {
     "data": {
      "image/png": "[encoded data removed]",
      "text/plain": [
       "<Figure size 432x288 with 1 Axes>"
      ]
     },
     "metadata": {
      "needs_background": "light"
     },
     "output_type": "display_data"
    }
   ],
   "source": [
    "print(hist.history.keys())\n",
    "plt.plot(hist.history['accuracy'])\n",
    "plt.plot(hist.history['val_accuracy'])\n",
    "plt.title('model accuracy')\n",
    "plt.ylabel('accuracy')\n",
    "plt.xlabel('epoch')\n",
    "plt.legend(['train', 'validation'], loc='upper left')\n",
    "plt.show()\n",
    "#\"loss\"\n",
    "plt.plot(hist.history['loss'])\n",
    "plt.plot(hist.history['val_loss'])\n",
    "plt.title('model loss')\n",
    "plt.ylabel('loss')\n",
    "plt.xlabel('epoch')\n",
    "plt.legend(['train', 'validation'], loc='upper left')\n",
    "plt.show()\n"
   ]
  },
  {
   "cell_type": "code",
   "execution_count": 29,
   "metadata": {},
   "outputs": [],
   "source": [
    "model.save('model.hdf5')"
   ]
  },
  {
   "cell_type": "code",
   "execution_count": null,
   "metadata": {},
   "outputs": [],
   "source": []
  }
 ],
 "metadata": {
  "kernelspec": {
   "display_name": "Python 3",
   "language": "python",
   "name": "python3"
  },
  "language_info": {
   "codemirror_mode": {
    "name": "ipython",
    "version": 3
   },
   "file_extension": ".py",
   "mimetype": "text/x-python",
   "name": "python",
   "nbconvert_exporter": "python",
   "pygments_lexer": "ipython3",
   "version": "3.7.6"
  }
 },
 "nbformat": 4,
 "nbformat_minor": 4
}
